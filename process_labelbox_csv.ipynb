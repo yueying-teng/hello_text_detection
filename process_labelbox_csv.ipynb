{
 "cells": [
  {
   "cell_type": "code",
   "execution_count": 1,
   "metadata": {},
   "outputs": [
    {
     "data": {
      "text/plain": [
       "'/Users/yueying.teng/Documents/text_object_detection'"
      ]
     },
     "execution_count": 1,
     "metadata": {},
     "output_type": "execute_result"
    }
   ],
   "source": [
    "pwd"
   ]
  },
  {
   "cell_type": "code",
   "execution_count": 13,
   "metadata": {},
   "outputs": [],
   "source": [
    "root = '/Users/yueying.teng/Documents/text_object_detection/'"
   ]
  },
  {
   "cell_type": "code",
   "execution_count": 2,
   "metadata": {},
   "outputs": [],
   "source": [
    "import pandas as pd\n",
    "import numpy as np\n",
    "import re\n",
    "import os \n",
    "from PIL import Image \n"
   ]
  },
  {
   "cell_type": "markdown",
   "metadata": {},
   "source": [
    "### resize images while keeping aspect ratio"
   ]
  },
  {
   "cell_type": "code",
   "execution_count": 87,
   "metadata": {
    "scrolled": true
   },
   "outputs": [],
   "source": [
    "img_dir = root + 'images_full_size/'\n",
    "\n",
    "img_path = [img_dir + i for i in sorted(os.listdir(img_dir))]\n",
    "\n",
    "# resize to the following size \n",
    "size = 500, 300\n",
    "outfile = root + 'images/'\n",
    "\n",
    "for i in range(len(img_path)):\n",
    "    try:\n",
    "        im = Image.open(img_path[i])\n",
    "        im.thumbnail(size, Image.ANTIALIAS)\n",
    "        im.save(outfile + sorted(os.listdir(img_dir))[i])\n",
    "\n",
    "    except OSError:\n",
    "        continue\n",
    "        "
   ]
  },
  {
   "cell_type": "code",
   "execution_count": 81,
   "metadata": {},
   "outputs": [],
   "source": [
    "# img_dir = root + 'images_full_size/'\n",
    "\n",
    "# img_path = [img_dir + i for i in sorted(os.listdir(img_dir))]\n",
    "\n",
    "\n",
    "# # size is a width, height tuple \n",
    "# size = (300, 500)\n",
    "# for i in range(len(img_path)):\n",
    "#     try:\n",
    "#         img = Image.open(img_path[i])\n",
    "#         # Get current and desired ratio for the images\n",
    "#         img_ratio = img.size[0] / float(img.size[1])\n",
    "#         ratio = size[0] / float(size[1])\n",
    "#         # The image is scaled/cropped vertically or horizontally depending on the ratio\n",
    "#         if ratio > img_ratio:\n",
    "#             img = img.resize((size[0], size[0] * img.size[1] / img.size[0]), Image.ANTIALIAS)\n",
    "#             img.save(outfile + sorted(os.listdir(img_dir))[i])\n",
    "            \n",
    "#     except OSError:\n",
    "#         continue"
   ]
  },
  {
   "cell_type": "code",
   "execution_count": null,
   "metadata": {},
   "outputs": [],
   "source": []
  },
  {
   "cell_type": "markdown",
   "metadata": {},
   "source": [
    "### change label.csv format "
   ]
  },
  {
   "cell_type": "code",
   "execution_count": 139,
   "metadata": {},
   "outputs": [
    {
     "data": {
      "text/html": [
       "<div>\n",
       "<style scoped>\n",
       "    .dataframe tbody tr th:only-of-type {\n",
       "        vertical-align: middle;\n",
       "    }\n",
       "\n",
       "    .dataframe tbody tr th {\n",
       "        vertical-align: top;\n",
       "    }\n",
       "\n",
       "    .dataframe thead th {\n",
       "        text-align: right;\n",
       "    }\n",
       "</style>\n",
       "<table border=\"1\" class=\"dataframe\">\n",
       "  <thead>\n",
       "    <tr style=\"text-align: right;\">\n",
       "      <th></th>\n",
       "      <th>ID</th>\n",
       "      <th>Labeled Data</th>\n",
       "      <th>label</th>\n",
       "      <th>Created By</th>\n",
       "      <th>Project Name</th>\n",
       "      <th>Created At</th>\n",
       "      <th>Seconds to Label</th>\n",
       "      <th>External ID</th>\n",
       "      <th>Agreement</th>\n",
       "      <th>id</th>\n",
       "    </tr>\n",
       "  </thead>\n",
       "  <tbody>\n",
       "    <tr>\n",
       "      <th>0</th>\n",
       "      <td>cjitz4t8p0p4207215wmy9m23</td>\n",
       "      <td>https://firebasestorage.googleapis.com/v0/b/la...</td>\n",
       "      <td>{\"hello\":[[{\"x\":181,\"y\":177},{\"x\":181,\"y\":78},...</td>\n",
       "      <td>yueyingteng@gmail.com</td>\n",
       "      <td>resized_hello</td>\n",
       "      <td>1529913730000</td>\n",
       "      <td>8.176</td>\n",
       "      <td>NaN</td>\n",
       "      <td>NaN</td>\n",
       "      <td>IMG_0258.JPG</td>\n",
       "    </tr>\n",
       "    <tr>\n",
       "      <th>1</th>\n",
       "      <td>cjitzgo4u0rd20721pm5v70o8</td>\n",
       "      <td>https://firebasestorage.googleapis.com/v0/b/la...</td>\n",
       "      <td>{\"hello\":[[{\"x\":215,\"y\":161},{\"x\":215,\"y\":73},...</td>\n",
       "      <td>yueyingteng@gmail.com</td>\n",
       "      <td>resized_hello</td>\n",
       "      <td>1529914283000</td>\n",
       "      <td>4.949</td>\n",
       "      <td>NaN</td>\n",
       "      <td>NaN</td>\n",
       "      <td>IMG_0260.JPG</td>\n",
       "    </tr>\n",
       "    <tr>\n",
       "      <th>2</th>\n",
       "      <td>cjitz50hu0p4y0721qsnj294e</td>\n",
       "      <td>https://firebasestorage.googleapis.com/v0/b/la...</td>\n",
       "      <td>{\"hello\":[[{\"x\":194,\"y\":171},{\"x\":194,\"y\":66},...</td>\n",
       "      <td>yueyingteng@gmail.com</td>\n",
       "      <td>resized_hello</td>\n",
       "      <td>1529913740000</td>\n",
       "      <td>9.442</td>\n",
       "      <td>NaN</td>\n",
       "      <td>NaN</td>\n",
       "      <td>IMG_0261.JPG</td>\n",
       "    </tr>\n",
       "    <tr>\n",
       "      <th>3</th>\n",
       "      <td>cjitz5am50p6e0721y6j5z3ed</td>\n",
       "      <td>https://firebasestorage.googleapis.com/v0/b/la...</td>\n",
       "      <td>{\"hello\":[[{\"x\":209,\"y\":123},{\"x\":209,\"y\":70},...</td>\n",
       "      <td>yueyingteng@gmail.com</td>\n",
       "      <td>resized_hello</td>\n",
       "      <td>1529913753000</td>\n",
       "      <td>13.105</td>\n",
       "      <td>NaN</td>\n",
       "      <td>NaN</td>\n",
       "      <td>IMG_0262.JPG</td>\n",
       "    </tr>\n",
       "    <tr>\n",
       "      <th>4</th>\n",
       "      <td>cjitz5mnz0vcd0749lvja4r1h</td>\n",
       "      <td>https://firebasestorage.googleapis.com/v0/b/la...</td>\n",
       "      <td>{\"hello\":[[{\"x\":226,\"y\":138},{\"x\":197,\"y\":139}...</td>\n",
       "      <td>yueyingteng@gmail.com</td>\n",
       "      <td>resized_hello</td>\n",
       "      <td>1529913768000</td>\n",
       "      <td>15.604</td>\n",
       "      <td>NaN</td>\n",
       "      <td>NaN</td>\n",
       "      <td>IMG_0264.JPG</td>\n",
       "    </tr>\n",
       "  </tbody>\n",
       "</table>\n",
       "</div>"
      ],
      "text/plain": [
       "                          ID  \\\n",
       "0  cjitz4t8p0p4207215wmy9m23   \n",
       "1  cjitzgo4u0rd20721pm5v70o8   \n",
       "2  cjitz50hu0p4y0721qsnj294e   \n",
       "3  cjitz5am50p6e0721y6j5z3ed   \n",
       "4  cjitz5mnz0vcd0749lvja4r1h   \n",
       "\n",
       "                                        Labeled Data  \\\n",
       "0  https://firebasestorage.googleapis.com/v0/b/la...   \n",
       "1  https://firebasestorage.googleapis.com/v0/b/la...   \n",
       "2  https://firebasestorage.googleapis.com/v0/b/la...   \n",
       "3  https://firebasestorage.googleapis.com/v0/b/la...   \n",
       "4  https://firebasestorage.googleapis.com/v0/b/la...   \n",
       "\n",
       "                                               label             Created By  \\\n",
       "0  {\"hello\":[[{\"x\":181,\"y\":177},{\"x\":181,\"y\":78},...  yueyingteng@gmail.com   \n",
       "1  {\"hello\":[[{\"x\":215,\"y\":161},{\"x\":215,\"y\":73},...  yueyingteng@gmail.com   \n",
       "2  {\"hello\":[[{\"x\":194,\"y\":171},{\"x\":194,\"y\":66},...  yueyingteng@gmail.com   \n",
       "3  {\"hello\":[[{\"x\":209,\"y\":123},{\"x\":209,\"y\":70},...  yueyingteng@gmail.com   \n",
       "4  {\"hello\":[[{\"x\":226,\"y\":138},{\"x\":197,\"y\":139}...  yueyingteng@gmail.com   \n",
       "\n",
       "    Project Name     Created At  Seconds to Label  External ID  Agreement  \\\n",
       "0  resized_hello  1529913730000             8.176          NaN        NaN   \n",
       "1  resized_hello  1529914283000             4.949          NaN        NaN   \n",
       "2  resized_hello  1529913740000             9.442          NaN        NaN   \n",
       "3  resized_hello  1529913753000            13.105          NaN        NaN   \n",
       "4  resized_hello  1529913768000            15.604          NaN        NaN   \n",
       "\n",
       "             id  \n",
       "0  IMG_0258.JPG  \n",
       "1  IMG_0260.JPG  \n",
       "2  IMG_0261.JPG  \n",
       "3  IMG_0262.JPG  \n",
       "4  IMG_0264.JPG  "
      ]
     },
     "execution_count": 139,
     "metadata": {},
     "output_type": "execute_result"
    }
   ],
   "source": [
    "# the following is the resized hello labeled data \n",
    "\n",
    "df = pd.read_csv('./data/labelbox_resized_hello.csv')\n",
    "\n",
    "# fill in the external id column \n",
    "df['id'] =  sorted(os.listdir(img_dir))\n",
    "\n",
    "df.rename(columns = {'Label': 'label'}, inplace = True)\n",
    "\n",
    "# remove duplication in id\n",
    "df = df[~ df.duplicated('id', keep = 'first')]\n",
    "\n",
    "df.head()\n"
   ]
  },
  {
   "cell_type": "code",
   "execution_count": 140,
   "metadata": {},
   "outputs": [
    {
     "data": {
      "text/plain": [
       "(173, 10)"
      ]
     },
     "execution_count": 140,
     "metadata": {},
     "output_type": "execute_result"
    }
   ],
   "source": [
    "df.shape"
   ]
  },
  {
   "cell_type": "code",
   "execution_count": null,
   "metadata": {},
   "outputs": [],
   "source": []
  },
  {
   "cell_type": "code",
   "execution_count": 141,
   "metadata": {},
   "outputs": [],
   "source": [
    "# find width and height of all images in External ID\n",
    "\n",
    "# training \n",
    "img_dir = root + 'images/'\n",
    "img_files = df['id']\n",
    "w = []\n",
    "h = []\n",
    "files = []\n",
    "xmin = []\n",
    "ymin = []\n",
    "xmax = []\n",
    "ymax = []\n",
    "\n",
    "for i in range(len(img_files)):\n",
    "    try:\n",
    "        image_path = os.path.join(img_dir, img_files[i])\n",
    "        image_obj = Image.open(image_path)\n",
    "        \n",
    "        # get image width and height \n",
    "        w.append(image_obj.width)\n",
    "        h.append(image_obj.height)\n",
    "        files.append(img_files[i])\n",
    "        \n",
    "        # get coordinates\n",
    "        string =  df['label'].iloc[i]\n",
    "        # match all numbers in lable column which has coordinates for all four corners with bottom left corner as origin\n",
    "        match = re.findall(r'\\:\\d+', string)\n",
    "        # xmin is 1812\n",
    "        match1 = re.findall(r'\\d+', match[0])\n",
    "        xmin.append(int(match1[0]))\n",
    "        # ymin is H-1792\n",
    "        match2 = re.findall(r'\\d+', match[1])\n",
    "        ymin.append(image_obj.height - int(match2[0]))\n",
    "        # xmax is 2061\n",
    "        match3 = re.findall(r'\\d+', match[4])\n",
    "        xmax.append(int(match3[0]))\n",
    "        # ymax is H-785\n",
    "        match4 = re.findall(r'\\d+', match[3])\n",
    "        ymax.append(image_obj.height - int(match4[0]))\n",
    "\n",
    "    except KeyError: \n",
    "        continue "
   ]
  },
  {
   "cell_type": "code",
   "execution_count": null,
   "metadata": {},
   "outputs": [],
   "source": []
  },
  {
   "cell_type": "code",
   "execution_count": 142,
   "metadata": {},
   "outputs": [],
   "source": [
    "classes = ['hello'] * len(files)\n",
    "\n",
    "out = pd.DataFrame({'filename': files, 'width': w, 'height': h, 'class': classes, 'xmin': xmin, 'ymin': ymin, 'xmax': xmax, 'ymax': ymax},\\\n",
    "                  columns = ['filename', 'width', 'height', 'class', 'xmin', 'ymin', 'xmax', 'ymax'])\n",
    "out.head()\n",
    "\n",
    "out.to_csv('./data/hello_label_wrong.csv', index = None)\n"
   ]
  },
  {
   "cell_type": "code",
   "execution_count": 143,
   "metadata": {},
   "outputs": [
    {
     "data": {
      "text/html": [
       "<div>\n",
       "<style scoped>\n",
       "    .dataframe tbody tr th:only-of-type {\n",
       "        vertical-align: middle;\n",
       "    }\n",
       "\n",
       "    .dataframe tbody tr th {\n",
       "        vertical-align: top;\n",
       "    }\n",
       "\n",
       "    .dataframe thead th {\n",
       "        text-align: right;\n",
       "    }\n",
       "</style>\n",
       "<table border=\"1\" class=\"dataframe\">\n",
       "  <thead>\n",
       "    <tr style=\"text-align: right;\">\n",
       "      <th></th>\n",
       "      <th>filename</th>\n",
       "      <th>width</th>\n",
       "      <th>height</th>\n",
       "      <th>class</th>\n",
       "      <th>xmin</th>\n",
       "      <th>ymin</th>\n",
       "      <th>xmax</th>\n",
       "      <th>ymax</th>\n",
       "    </tr>\n",
       "  </thead>\n",
       "  <tbody>\n",
       "    <tr>\n",
       "      <th>0</th>\n",
       "      <td>IMG_0258.JPG</td>\n",
       "      <td>400</td>\n",
       "      <td>300</td>\n",
       "      <td>hello</td>\n",
       "      <td>181</td>\n",
       "      <td>123</td>\n",
       "      <td>203</td>\n",
       "      <td>222</td>\n",
       "    </tr>\n",
       "    <tr>\n",
       "      <th>1</th>\n",
       "      <td>IMG_0260.JPG</td>\n",
       "      <td>400</td>\n",
       "      <td>300</td>\n",
       "      <td>hello</td>\n",
       "      <td>215</td>\n",
       "      <td>139</td>\n",
       "      <td>243</td>\n",
       "      <td>227</td>\n",
       "    </tr>\n",
       "    <tr>\n",
       "      <th>2</th>\n",
       "      <td>IMG_0261.JPG</td>\n",
       "      <td>400</td>\n",
       "      <td>300</td>\n",
       "      <td>hello</td>\n",
       "      <td>194</td>\n",
       "      <td>129</td>\n",
       "      <td>217</td>\n",
       "      <td>234</td>\n",
       "    </tr>\n",
       "    <tr>\n",
       "      <th>3</th>\n",
       "      <td>IMG_0262.JPG</td>\n",
       "      <td>400</td>\n",
       "      <td>300</td>\n",
       "      <td>hello</td>\n",
       "      <td>209</td>\n",
       "      <td>177</td>\n",
       "      <td>234</td>\n",
       "      <td>230</td>\n",
       "    </tr>\n",
       "    <tr>\n",
       "      <th>4</th>\n",
       "      <td>IMG_0264.JPG</td>\n",
       "      <td>400</td>\n",
       "      <td>300</td>\n",
       "      <td>hello</td>\n",
       "      <td>226</td>\n",
       "      <td>162</td>\n",
       "      <td>197</td>\n",
       "      <td>161</td>\n",
       "    </tr>\n",
       "  </tbody>\n",
       "</table>\n",
       "</div>"
      ],
      "text/plain": [
       "       filename  width  height  class  xmin  ymin  xmax  ymax\n",
       "0  IMG_0258.JPG    400     300  hello   181   123   203   222\n",
       "1  IMG_0260.JPG    400     300  hello   215   139   243   227\n",
       "2  IMG_0261.JPG    400     300  hello   194   129   217   234\n",
       "3  IMG_0262.JPG    400     300  hello   209   177   234   230\n",
       "4  IMG_0264.JPG    400     300  hello   226   162   197   161"
      ]
     },
     "execution_count": 143,
     "metadata": {},
     "output_type": "execute_result"
    }
   ],
   "source": [
    "# this csv contains picutres with incorrect bounding boxes. \n",
    "df2 = pd.read_csv('./data/hello_label_wrong.csv')\n",
    "\n",
    "df2.head()"
   ]
  },
  {
   "cell_type": "code",
   "execution_count": null,
   "metadata": {},
   "outputs": [],
   "source": []
  },
  {
   "cell_type": "markdown",
   "metadata": {},
   "source": [
    "### label quality check "
   ]
  },
  {
   "cell_type": "code",
   "execution_count": 145,
   "metadata": {},
   "outputs": [],
   "source": [
    "# make sure xmin has to be smaller than xmax\n",
    "wrong = []\n",
    "for i in range(df2.shape[0]):\n",
    "    if df2.iloc[i]['xmin'] > df2.iloc[i]['xmax']:\n",
    "        wrong.append(i)\n",
    "    elif df2.iloc[i]['ymin'] > df2.iloc[i]['ymax']:\n",
    "        wrong.append(i)"
   ]
  },
  {
   "cell_type": "code",
   "execution_count": 146,
   "metadata": {},
   "outputs": [
    {
     "data": {
      "text/plain": [
       "([4, 13, 37, 38, 43, 61, 67, 74, 101, 104, 117, 139, 169], 13)"
      ]
     },
     "execution_count": 146,
     "metadata": {},
     "output_type": "execute_result"
    }
   ],
   "source": [
    "wrong, len(wrong)"
   ]
  },
  {
   "cell_type": "code",
   "execution_count": 150,
   "metadata": {},
   "outputs": [
    {
     "data": {
      "text/html": [
       "<div>\n",
       "<style scoped>\n",
       "    .dataframe tbody tr th:only-of-type {\n",
       "        vertical-align: middle;\n",
       "    }\n",
       "\n",
       "    .dataframe tbody tr th {\n",
       "        vertical-align: top;\n",
       "    }\n",
       "\n",
       "    .dataframe thead th {\n",
       "        text-align: right;\n",
       "    }\n",
       "</style>\n",
       "<table border=\"1\" class=\"dataframe\">\n",
       "  <thead>\n",
       "    <tr style=\"text-align: right;\">\n",
       "      <th></th>\n",
       "      <th>filename</th>\n",
       "      <th>width</th>\n",
       "      <th>height</th>\n",
       "      <th>class</th>\n",
       "      <th>xmin</th>\n",
       "      <th>ymin</th>\n",
       "      <th>xmax</th>\n",
       "      <th>ymax</th>\n",
       "    </tr>\n",
       "  </thead>\n",
       "  <tbody>\n",
       "    <tr>\n",
       "      <th>4</th>\n",
       "      <td>IMG_0264.JPG</td>\n",
       "      <td>400</td>\n",
       "      <td>300</td>\n",
       "      <td>hello</td>\n",
       "      <td>226</td>\n",
       "      <td>162</td>\n",
       "      <td>197</td>\n",
       "      <td>161</td>\n",
       "    </tr>\n",
       "    <tr>\n",
       "      <th>13</th>\n",
       "      <td>IMG_0274.JPG</td>\n",
       "      <td>400</td>\n",
       "      <td>300</td>\n",
       "      <td>hello</td>\n",
       "      <td>184</td>\n",
       "      <td>184</td>\n",
       "      <td>207</td>\n",
       "      <td>95</td>\n",
       "    </tr>\n",
       "    <tr>\n",
       "      <th>37</th>\n",
       "      <td>IMG_0333.JPG</td>\n",
       "      <td>400</td>\n",
       "      <td>300</td>\n",
       "      <td>hello</td>\n",
       "      <td>196</td>\n",
       "      <td>218</td>\n",
       "      <td>224</td>\n",
       "      <td>111</td>\n",
       "    </tr>\n",
       "    <tr>\n",
       "      <th>38</th>\n",
       "      <td>IMG_0335.JPG</td>\n",
       "      <td>400</td>\n",
       "      <td>300</td>\n",
       "      <td>hello</td>\n",
       "      <td>231</td>\n",
       "      <td>171</td>\n",
       "      <td>204</td>\n",
       "      <td>171</td>\n",
       "    </tr>\n",
       "    <tr>\n",
       "      <th>43</th>\n",
       "      <td>IMG_0344.JPG</td>\n",
       "      <td>400</td>\n",
       "      <td>300</td>\n",
       "      <td>hello</td>\n",
       "      <td>214</td>\n",
       "      <td>148</td>\n",
       "      <td>188</td>\n",
       "      <td>148</td>\n",
       "    </tr>\n",
       "    <tr>\n",
       "      <th>61</th>\n",
       "      <td>IMG_0379.JPG</td>\n",
       "      <td>400</td>\n",
       "      <td>300</td>\n",
       "      <td>hello</td>\n",
       "      <td>216</td>\n",
       "      <td>145</td>\n",
       "      <td>191</td>\n",
       "      <td>144</td>\n",
       "    </tr>\n",
       "    <tr>\n",
       "      <th>67</th>\n",
       "      <td>IMG_0392.JPG</td>\n",
       "      <td>400</td>\n",
       "      <td>300</td>\n",
       "      <td>hello</td>\n",
       "      <td>209</td>\n",
       "      <td>152</td>\n",
       "      <td>184</td>\n",
       "      <td>152</td>\n",
       "    </tr>\n",
       "    <tr>\n",
       "      <th>74</th>\n",
       "      <td>IMG_0428.JPG</td>\n",
       "      <td>400</td>\n",
       "      <td>300</td>\n",
       "      <td>hello</td>\n",
       "      <td>230</td>\n",
       "      <td>123</td>\n",
       "      <td>202</td>\n",
       "      <td>123</td>\n",
       "    </tr>\n",
       "    <tr>\n",
       "      <th>101</th>\n",
       "      <td>IMG_0516.JPG</td>\n",
       "      <td>400</td>\n",
       "      <td>300</td>\n",
       "      <td>hello</td>\n",
       "      <td>221</td>\n",
       "      <td>130</td>\n",
       "      <td>192</td>\n",
       "      <td>130</td>\n",
       "    </tr>\n",
       "    <tr>\n",
       "      <th>104</th>\n",
       "      <td>IMG_0528.JPG</td>\n",
       "      <td>400</td>\n",
       "      <td>300</td>\n",
       "      <td>hello</td>\n",
       "      <td>203</td>\n",
       "      <td>100</td>\n",
       "      <td>174</td>\n",
       "      <td>99</td>\n",
       "    </tr>\n",
       "    <tr>\n",
       "      <th>117</th>\n",
       "      <td>IMG_0573.jpg</td>\n",
       "      <td>225</td>\n",
       "      <td>300</td>\n",
       "      <td>hello</td>\n",
       "      <td>113</td>\n",
       "      <td>131</td>\n",
       "      <td>81</td>\n",
       "      <td>131</td>\n",
       "    </tr>\n",
       "    <tr>\n",
       "      <th>139</th>\n",
       "      <td>IMG_0677.jpg</td>\n",
       "      <td>224</td>\n",
       "      <td>300</td>\n",
       "      <td>hello</td>\n",
       "      <td>136</td>\n",
       "      <td>133</td>\n",
       "      <td>100</td>\n",
       "      <td>133</td>\n",
       "    </tr>\n",
       "    <tr>\n",
       "      <th>169</th>\n",
       "      <td>IMG_0733.JPG</td>\n",
       "      <td>400</td>\n",
       "      <td>300</td>\n",
       "      <td>hello</td>\n",
       "      <td>218</td>\n",
       "      <td>142</td>\n",
       "      <td>196</td>\n",
       "      <td>142</td>\n",
       "    </tr>\n",
       "  </tbody>\n",
       "</table>\n",
       "</div>"
      ],
      "text/plain": [
       "         filename  width  height  class  xmin  ymin  xmax  ymax\n",
       "4    IMG_0264.JPG    400     300  hello   226   162   197   161\n",
       "13   IMG_0274.JPG    400     300  hello   184   184   207    95\n",
       "37   IMG_0333.JPG    400     300  hello   196   218   224   111\n",
       "38   IMG_0335.JPG    400     300  hello   231   171   204   171\n",
       "43   IMG_0344.JPG    400     300  hello   214   148   188   148\n",
       "61   IMG_0379.JPG    400     300  hello   216   145   191   144\n",
       "67   IMG_0392.JPG    400     300  hello   209   152   184   152\n",
       "74   IMG_0428.JPG    400     300  hello   230   123   202   123\n",
       "101  IMG_0516.JPG    400     300  hello   221   130   192   130\n",
       "104  IMG_0528.JPG    400     300  hello   203   100   174    99\n",
       "117  IMG_0573.jpg    225     300  hello   113   131    81   131\n",
       "139  IMG_0677.jpg    224     300  hello   136   133   100   133\n",
       "169  IMG_0733.JPG    400     300  hello   218   142   196   142"
      ]
     },
     "execution_count": 150,
     "metadata": {},
     "output_type": "execute_result"
    }
   ],
   "source": [
    "# print the wrong image names - these images will not be used in training but can be used in testig \n",
    "\n",
    "df2.iloc[wrong, :]"
   ]
  },
  {
   "cell_type": "code",
   "execution_count": 118,
   "metadata": {},
   "outputs": [],
   "source": [
    "# make sure bounding boxes are not outside the image boundaries\n",
    "out = []\n",
    "for i in range(df2.shape[0]):\n",
    "    if df2.iloc[i]['xmin'] > df2.iloc[i]['width']:\n",
    "        out.append(i)\n",
    "    elif df2.iloc[i]['xmax'] > df2.iloc[i]['width']:\n",
    "        out.append(i)\n",
    "    elif df2.iloc[i]['ymin'] > df2.iloc[i]['height']:\n",
    "        out.append(i)\n",
    "    elif df2.iloc[i]['ymax'] > df2.iloc[i]['height']:\n",
    "        out.append(i)"
   ]
  },
  {
   "cell_type": "code",
   "execution_count": 119,
   "metadata": {},
   "outputs": [
    {
     "data": {
      "text/plain": [
       "[]"
      ]
     },
     "execution_count": 119,
     "metadata": {},
     "output_type": "execute_result"
    }
   ],
   "source": [
    "out"
   ]
  },
  {
   "cell_type": "code",
   "execution_count": 105,
   "metadata": {},
   "outputs": [],
   "source": [
    "# check the sizes of the bounding boxes\n",
    "\n",
    "negative = []\n",
    "for i in range(df2.shape[0]):\n",
    "    if df2.iloc[i]['xmax'] - df2.iloc[i]['xmin'] < 0:\n",
    "        negative.append(i)\n",
    "    elif df2.iloc[i]['ymax'] - df2.iloc[i]['ymin'] < 0:\n",
    "        negative.append(i)"
   ]
  },
  {
   "cell_type": "code",
   "execution_count": 120,
   "metadata": {},
   "outputs": [
    {
     "data": {
      "text/plain": [
       "True"
      ]
     },
     "execution_count": 120,
     "metadata": {},
     "output_type": "execute_result"
    }
   ],
   "source": [
    "negative == wrong "
   ]
  },
  {
   "cell_type": "code",
   "execution_count": 151,
   "metadata": {},
   "outputs": [
    {
     "data": {
      "text/html": [
       "<div>\n",
       "<style scoped>\n",
       "    .dataframe tbody tr th:only-of-type {\n",
       "        vertical-align: middle;\n",
       "    }\n",
       "\n",
       "    .dataframe tbody tr th {\n",
       "        vertical-align: top;\n",
       "    }\n",
       "\n",
       "    .dataframe thead th {\n",
       "        text-align: right;\n",
       "    }\n",
       "</style>\n",
       "<table border=\"1\" class=\"dataframe\">\n",
       "  <thead>\n",
       "    <tr style=\"text-align: right;\">\n",
       "      <th></th>\n",
       "      <th>filename</th>\n",
       "      <th>width</th>\n",
       "      <th>height</th>\n",
       "      <th>class</th>\n",
       "      <th>xmin</th>\n",
       "      <th>ymin</th>\n",
       "      <th>xmax</th>\n",
       "      <th>ymax</th>\n",
       "    </tr>\n",
       "  </thead>\n",
       "  <tbody>\n",
       "    <tr>\n",
       "      <th>0</th>\n",
       "      <td>IMG_0258.JPG</td>\n",
       "      <td>400</td>\n",
       "      <td>300</td>\n",
       "      <td>hello</td>\n",
       "      <td>181</td>\n",
       "      <td>123</td>\n",
       "      <td>203</td>\n",
       "      <td>222</td>\n",
       "    </tr>\n",
       "    <tr>\n",
       "      <th>1</th>\n",
       "      <td>IMG_0260.JPG</td>\n",
       "      <td>400</td>\n",
       "      <td>300</td>\n",
       "      <td>hello</td>\n",
       "      <td>215</td>\n",
       "      <td>139</td>\n",
       "      <td>243</td>\n",
       "      <td>227</td>\n",
       "    </tr>\n",
       "    <tr>\n",
       "      <th>2</th>\n",
       "      <td>IMG_0261.JPG</td>\n",
       "      <td>400</td>\n",
       "      <td>300</td>\n",
       "      <td>hello</td>\n",
       "      <td>194</td>\n",
       "      <td>129</td>\n",
       "      <td>217</td>\n",
       "      <td>234</td>\n",
       "    </tr>\n",
       "    <tr>\n",
       "      <th>3</th>\n",
       "      <td>IMG_0262.JPG</td>\n",
       "      <td>400</td>\n",
       "      <td>300</td>\n",
       "      <td>hello</td>\n",
       "      <td>209</td>\n",
       "      <td>177</td>\n",
       "      <td>234</td>\n",
       "      <td>230</td>\n",
       "    </tr>\n",
       "    <tr>\n",
       "      <th>5</th>\n",
       "      <td>IMG_0265.JPG</td>\n",
       "      <td>400</td>\n",
       "      <td>300</td>\n",
       "      <td>hello</td>\n",
       "      <td>212</td>\n",
       "      <td>146</td>\n",
       "      <td>239</td>\n",
       "      <td>204</td>\n",
       "    </tr>\n",
       "  </tbody>\n",
       "</table>\n",
       "</div>"
      ],
      "text/plain": [
       "       filename  width  height  class  xmin  ymin  xmax  ymax\n",
       "0  IMG_0258.JPG    400     300  hello   181   123   203   222\n",
       "1  IMG_0260.JPG    400     300  hello   215   139   243   227\n",
       "2  IMG_0261.JPG    400     300  hello   194   129   217   234\n",
       "3  IMG_0262.JPG    400     300  hello   209   177   234   230\n",
       "5  IMG_0265.JPG    400     300  hello   212   146   239   204"
      ]
     },
     "execution_count": 151,
     "metadata": {},
     "output_type": "execute_result"
    }
   ],
   "source": [
    "# remove the problematic images \n",
    "\n",
    "df2.drop(df2.index[wrong], inplace = True)\n",
    "\n",
    "df2.head()"
   ]
  },
  {
   "cell_type": "code",
   "execution_count": 152,
   "metadata": {},
   "outputs": [],
   "source": [
    "# save the corrected label csv \n",
    "\n",
    "df2.to_csv('./data/hello_label.csv', index = None)"
   ]
  },
  {
   "cell_type": "code",
   "execution_count": null,
   "metadata": {},
   "outputs": [],
   "source": []
  },
  {
   "cell_type": "code",
   "execution_count": null,
   "metadata": {},
   "outputs": [],
   "source": []
  },
  {
   "cell_type": "markdown",
   "metadata": {},
   "source": [
    "### split label to training and testing data "
   ]
  },
  {
   "cell_type": "code",
   "execution_count": 126,
   "metadata": {},
   "outputs": [
    {
     "name": "stdout",
     "output_type": "stream",
     "text": [
      "       filename  width  height  class  xmin  ymin  xmax  ymax\n",
      "0  IMG_0258.JPG    400     300  hello   181   123   203   222\n"
     ]
    },
    {
     "data": {
      "text/plain": [
       "160"
      ]
     },
     "execution_count": 126,
     "metadata": {},
     "output_type": "execute_result"
    }
   ],
   "source": [
    "# grouped = df2.groupby('filename')\n",
    "# grouped.apply(lambda x: len(x)).value_counts()\n",
    "\n",
    "# split each file into a group in a list\n",
    "gb = df2.groupby('filename')\n",
    "\n",
    "grouped_list = [gb.get_group(x) for x in gb.groups]\n",
    "\n",
    "# gb.groups is a dictionary \n",
    "print (gb.get_group('IMG_0258.JPG'))\n",
    "\n",
    "len(grouped_list)\n"
   ]
  },
  {
   "cell_type": "code",
   "execution_count": 128,
   "metadata": {},
   "outputs": [
    {
     "data": {
      "text/plain": [
       "(160, 8)"
      ]
     },
     "execution_count": 128,
     "metadata": {},
     "output_type": "execute_result"
    }
   ],
   "source": [
    "df2.shape"
   ]
  },
  {
   "cell_type": "code",
   "execution_count": 129,
   "metadata": {},
   "outputs": [
    {
     "name": "stdout",
     "output_type": "stream",
     "text": [
      "135 25\n",
      "135 25\n"
     ]
    }
   ],
   "source": [
    "\n",
    "# split filenames to train test groups\n",
    "train_index = np.random.choice(len(grouped_list), size=135, replace=False)\n",
    "# np.setdiff1d - Find the set difference of two arrays.\n",
    "test_index = np.setdiff1d(list(range(160)), train_index)\n",
    "\n",
    "print (len(train_index), len(test_index))\n",
    "\n",
    "# group datasets using index\n",
    "train = pd.concat([grouped_list[i] for i in train_index])\n",
    "test = pd.concat([grouped_list[i] for i in test_index])\n",
    "\n",
    "print (len(train), len(test))\n",
    "\n",
    "train.to_csv('./data/train_labels.csv', index=None)\n",
    "test.to_csv('./data/test_labels.csv', index=None)\n"
   ]
  },
  {
   "cell_type": "code",
   "execution_count": null,
   "metadata": {},
   "outputs": [],
   "source": []
  },
  {
   "cell_type": "markdown",
   "metadata": {},
   "source": [
    "### draw boxes"
   ]
  },
  {
   "cell_type": "code",
   "execution_count": 130,
   "metadata": {},
   "outputs": [],
   "source": [
    "\n",
    "def draw_boxes(image_name):\n",
    "    selected_value = full_labels[full_labels.filename == image_name]\n",
    "    img = cv2.imread('images/{}'.format(image_name))\n",
    "    for index, row in selected_value.iterrows():\n",
    "        img = cv2.rectangle(img, (row['xmin'], row['ymin']), (row['xmax'], row['ymax']), (0, 255, 0), 3)\n",
    "    return img"
   ]
  },
  {
   "cell_type": "code",
   "execution_count": null,
   "metadata": {},
   "outputs": [],
   "source": []
  },
  {
   "cell_type": "code",
   "execution_count": 132,
   "metadata": {},
   "outputs": [
    {
     "data": {
      "image/png": "[encoded data removed]",
      "text/plain": [
       "<Figure size 432x288 with 1 Axes>"
      ]
     },
     "metadata": {},
     "output_type": "display_data"
    }
   ],
   "source": [
    "import matplotlib.pyplot as plt\n",
    "import matplotlib.patches as patches\n",
    "\n",
    "\n",
    "one_dir = root + 'images/IMG_0264.JPG'\n",
    "im = np.array(Image.open(one_dir), dtype=np.uint8)\n",
    "\n",
    "# Create figure and axes\n",
    "fig,ax = plt.subplots(1)\n",
    "\n",
    "# Display the image\n",
    "ax.imshow(im)\n",
    "\n",
    "# Create a Rectangle patch \n",
    "# rect = patches.Rectangle((1772, 1230), 2110 - 1772, 2280 - 1230,linewidth=1,edgecolor='r',facecolor='none')\n",
    "rect = patches.Rectangle((226, 162), 197 - 226, 161 - 162 , linewidth = 1, edgecolor = 'r', facecolor = 'none')\n",
    "\n",
    "# Add the patch to the Axes\n",
    "ax.add_patch(rect)\n",
    "\n",
    "plt.show()"
   ]
  },
  {
   "cell_type": "code",
   "execution_count": null,
   "metadata": {},
   "outputs": [],
   "source": []
  },
  {
   "cell_type": "code",
   "execution_count": null,
   "metadata": {},
   "outputs": [],
   "source": []
  },
  {
   "cell_type": "code",
   "execution_count": null,
   "metadata": {},
   "outputs": [],
   "source": []
  },
  {
   "cell_type": "code",
   "execution_count": 42,
   "metadata": {},
   "outputs": [],
   "source": []
  },
  {
   "cell_type": "code",
   "execution_count": null,
   "metadata": {},
   "outputs": [],
   "source": []
  },
  {
   "cell_type": "code",
   "execution_count": 88,
   "metadata": {},
   "outputs": [
    {
     "name": "stdout",
     "output_type": "stream",
     "text": [
      "{\"Hello\":[[{\"x\":1812,\"y\":1792},{\"x\":1812,\"y\":785},{\"x\":2061,\"y\":785},{\"x\":2061,\"y\":1792}]]}\n"
     ]
    },
    {
     "data": {
      "text/plain": [
       "[':1812', ':1792', ':1812', ':785', ':2061', ':785', ':2061', ':1792']"
      ]
     },
     "execution_count": 88,
     "metadata": {},
     "output_type": "execute_result"
    }
   ],
   "source": [
    "string = df['label'].iloc[0]\n",
    "print (string)\n",
    "\n",
    "match = re.findall(r'\\:\\d+', string)\n",
    "print (match)\n",
    "\n",
    "# xmin is 1812\n",
    "match1 = re.findall(r'\\d+', match[0])\n",
    "int(match1[0])\n",
    "\n",
    "# ymin is H-1792\n",
    "match2 = re.findall(r'\\d+', match[1])\n",
    "int(match2[0])\n",
    "\n",
    "# xmax is 2061\n",
    "match3 = re.findall(r'\\d+', match[4])\n",
    "int(match3[0])\n",
    "\n",
    "# ymax is H-785\n",
    "match4 = re.findall(r'\\d+', match[3])\n",
    "int(match4[0])"
   ]
  },
  {
   "cell_type": "code",
   "execution_count": null,
   "metadata": {},
   "outputs": [],
   "source": []
  }
 ],
 "metadata": {
  "kernelspec": {
   "display_name": "Python 3",
   "language": "python",
   "name": "python3"
  },
  "language_info": {
   "codemirror_mode": {
    "name": "ipython",
    "version": 3
   },
   "file_extension": ".py",
   "mimetype": "text/x-python",
   "name": "python",
   "nbconvert_exporter": "python",
   "pygments_lexer": "ipython3",
   "version": "3.6.5"
  }
 },
 "nbformat": 4,
 "nbformat_minor": 2
}
